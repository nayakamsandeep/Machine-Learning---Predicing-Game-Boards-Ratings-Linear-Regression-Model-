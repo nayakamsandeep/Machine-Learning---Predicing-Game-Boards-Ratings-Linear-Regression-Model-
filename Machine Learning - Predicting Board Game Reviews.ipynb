{
 "cells": [
  {
   "cell_type": "code",
   "execution_count": 52,
   "metadata": {
    "collapsed": false
   },
   "outputs": [
    {
     "name": "stdout",
     "output_type": "stream",
     "text": [
      "(81312, 20)\n"
     ]
    },
    {
     "data": {
      "text/html": [
       "<div>\n",
       "<table border=\"1\" class=\"dataframe\">\n",
       "  <thead>\n",
       "    <tr style=\"text-align: right;\">\n",
       "      <th></th>\n",
       "      <th>id</th>\n",
       "      <th>type</th>\n",
       "      <th>name</th>\n",
       "      <th>yearpublished</th>\n",
       "      <th>minplayers</th>\n",
       "      <th>maxplayers</th>\n",
       "      <th>playingtime</th>\n",
       "      <th>minplaytime</th>\n",
       "      <th>maxplaytime</th>\n",
       "      <th>minage</th>\n",
       "      <th>users_rated</th>\n",
       "      <th>average_rating</th>\n",
       "      <th>bayes_average_rating</th>\n",
       "      <th>total_owners</th>\n",
       "      <th>total_traders</th>\n",
       "      <th>total_wanters</th>\n",
       "      <th>total_wishers</th>\n",
       "      <th>total_comments</th>\n",
       "      <th>total_weights</th>\n",
       "      <th>average_weight</th>\n",
       "    </tr>\n",
       "  </thead>\n",
       "  <tbody>\n",
       "    <tr>\n",
       "      <th>0</th>\n",
       "      <td>12333</td>\n",
       "      <td>boardgame</td>\n",
       "      <td>Twilight Struggle</td>\n",
       "      <td>2005.0</td>\n",
       "      <td>2.0</td>\n",
       "      <td>2.0</td>\n",
       "      <td>180.0</td>\n",
       "      <td>180.0</td>\n",
       "      <td>180.0</td>\n",
       "      <td>13.0</td>\n",
       "      <td>20113</td>\n",
       "      <td>8.33774</td>\n",
       "      <td>8.22186</td>\n",
       "      <td>26647</td>\n",
       "      <td>372</td>\n",
       "      <td>1219</td>\n",
       "      <td>5865</td>\n",
       "      <td>5347</td>\n",
       "      <td>2562</td>\n",
       "      <td>3.4785</td>\n",
       "    </tr>\n",
       "    <tr>\n",
       "      <th>1</th>\n",
       "      <td>120677</td>\n",
       "      <td>boardgame</td>\n",
       "      <td>Terra Mystica</td>\n",
       "      <td>2012.0</td>\n",
       "      <td>2.0</td>\n",
       "      <td>5.0</td>\n",
       "      <td>150.0</td>\n",
       "      <td>60.0</td>\n",
       "      <td>150.0</td>\n",
       "      <td>12.0</td>\n",
       "      <td>14383</td>\n",
       "      <td>8.28798</td>\n",
       "      <td>8.14232</td>\n",
       "      <td>16519</td>\n",
       "      <td>132</td>\n",
       "      <td>1586</td>\n",
       "      <td>6277</td>\n",
       "      <td>2526</td>\n",
       "      <td>1423</td>\n",
       "      <td>3.8939</td>\n",
       "    </tr>\n",
       "    <tr>\n",
       "      <th>2</th>\n",
       "      <td>102794</td>\n",
       "      <td>boardgame</td>\n",
       "      <td>Caverna: The Cave Farmers</td>\n",
       "      <td>2013.0</td>\n",
       "      <td>1.0</td>\n",
       "      <td>7.0</td>\n",
       "      <td>210.0</td>\n",
       "      <td>30.0</td>\n",
       "      <td>210.0</td>\n",
       "      <td>12.0</td>\n",
       "      <td>9262</td>\n",
       "      <td>8.28994</td>\n",
       "      <td>8.06886</td>\n",
       "      <td>12230</td>\n",
       "      <td>99</td>\n",
       "      <td>1476</td>\n",
       "      <td>5600</td>\n",
       "      <td>1700</td>\n",
       "      <td>777</td>\n",
       "      <td>3.7761</td>\n",
       "    </tr>\n",
       "    <tr>\n",
       "      <th>3</th>\n",
       "      <td>25613</td>\n",
       "      <td>boardgame</td>\n",
       "      <td>Through the Ages: A Story of Civilization</td>\n",
       "      <td>2006.0</td>\n",
       "      <td>2.0</td>\n",
       "      <td>4.0</td>\n",
       "      <td>240.0</td>\n",
       "      <td>240.0</td>\n",
       "      <td>240.0</td>\n",
       "      <td>12.0</td>\n",
       "      <td>13294</td>\n",
       "      <td>8.20407</td>\n",
       "      <td>8.05804</td>\n",
       "      <td>14343</td>\n",
       "      <td>362</td>\n",
       "      <td>1084</td>\n",
       "      <td>5075</td>\n",
       "      <td>3378</td>\n",
       "      <td>1642</td>\n",
       "      <td>4.1590</td>\n",
       "    </tr>\n",
       "    <tr>\n",
       "      <th>4</th>\n",
       "      <td>3076</td>\n",
       "      <td>boardgame</td>\n",
       "      <td>Puerto Rico</td>\n",
       "      <td>2002.0</td>\n",
       "      <td>2.0</td>\n",
       "      <td>5.0</td>\n",
       "      <td>150.0</td>\n",
       "      <td>90.0</td>\n",
       "      <td>150.0</td>\n",
       "      <td>12.0</td>\n",
       "      <td>39883</td>\n",
       "      <td>8.14261</td>\n",
       "      <td>8.04524</td>\n",
       "      <td>44362</td>\n",
       "      <td>795</td>\n",
       "      <td>861</td>\n",
       "      <td>5414</td>\n",
       "      <td>9173</td>\n",
       "      <td>5213</td>\n",
       "      <td>3.2943</td>\n",
       "    </tr>\n",
       "  </tbody>\n",
       "</table>\n",
       "</div>"
      ],
      "text/plain": [
       "       id       type                                       name  \\\n",
       "0   12333  boardgame                          Twilight Struggle   \n",
       "1  120677  boardgame                              Terra Mystica   \n",
       "2  102794  boardgame                  Caverna: The Cave Farmers   \n",
       "3   25613  boardgame  Through the Ages: A Story of Civilization   \n",
       "4    3076  boardgame                                Puerto Rico   \n",
       "\n",
       "   yearpublished  minplayers  maxplayers  playingtime  minplaytime  \\\n",
       "0         2005.0         2.0         2.0        180.0        180.0   \n",
       "1         2012.0         2.0         5.0        150.0         60.0   \n",
       "2         2013.0         1.0         7.0        210.0         30.0   \n",
       "3         2006.0         2.0         4.0        240.0        240.0   \n",
       "4         2002.0         2.0         5.0        150.0         90.0   \n",
       "\n",
       "   maxplaytime  minage  users_rated  average_rating  bayes_average_rating  \\\n",
       "0        180.0    13.0        20113         8.33774               8.22186   \n",
       "1        150.0    12.0        14383         8.28798               8.14232   \n",
       "2        210.0    12.0         9262         8.28994               8.06886   \n",
       "3        240.0    12.0        13294         8.20407               8.05804   \n",
       "4        150.0    12.0        39883         8.14261               8.04524   \n",
       "\n",
       "   total_owners  total_traders  total_wanters  total_wishers  total_comments  \\\n",
       "0         26647            372           1219           5865            5347   \n",
       "1         16519            132           1586           6277            2526   \n",
       "2         12230             99           1476           5600            1700   \n",
       "3         14343            362           1084           5075            3378   \n",
       "4         44362            795            861           5414            9173   \n",
       "\n",
       "   total_weights  average_weight  \n",
       "0           2562          3.4785  \n",
       "1           1423          3.8939  \n",
       "2            777          3.7761  \n",
       "3           1642          4.1590  \n",
       "4           5213          3.2943  "
      ]
     },
     "execution_count": 52,
     "metadata": {},
     "output_type": "execute_result"
    }
   ],
   "source": [
    "import pandas as pd\n",
    "\n",
    "board_games = pd.read_csv('board_games.csv')\n",
    "print(board_games.shape)\n",
    "board_games.head()"
   ]
  },
  {
   "cell_type": "code",
   "execution_count": 53,
   "metadata": {
    "collapsed": false
   },
   "outputs": [
    {
     "name": "stdout",
     "output_type": "stream",
     "text": [
      "(81268, 20)\n"
     ]
    }
   ],
   "source": [
    "# Removing rows with missing values\n",
    "\n",
    "board_games = board_games.dropna(axis = 0)\n",
    "print(board_games.shape)\n"
   ]
  },
  {
   "cell_type": "code",
   "execution_count": 54,
   "metadata": {
    "collapsed": false
   },
   "outputs": [
    {
     "name": "stdout",
     "output_type": "stream",
     "text": [
      "(56894, 20)\n"
     ]
    }
   ],
   "source": [
    "# Removing rows with no reviews in the 'users_rated' column\n",
    "board_games = board_games[board_games['users_rated'] >0]\n",
    "print(board_games.shape)"
   ]
  },
  {
   "cell_type": "code",
   "execution_count": 55,
   "metadata": {
    "collapsed": false
   },
   "outputs": [
    {
     "data": {
      "image/png": "[encoded data removed]",
      "text/plain": [
       "<matplotlib.figure.Figure at 0x7f8f29d92588>"
      ]
     },
     "metadata": {},
     "output_type": "display_data"
    }
   ],
   "source": [
    "%matplotlib inline\n",
    "import matplotlib.pyplot as plt\n",
    "\n",
    "plt.hist(board_games['average_rating'])\n",
    "plt.show()"
   ]
  },
  {
   "cell_type": "code",
   "execution_count": 56,
   "metadata": {
    "collapsed": false
   },
   "outputs": [
    {
     "name": "stdout",
     "output_type": "stream",
     "text": [
      "Strandard Deviation:  1.57882993483\n",
      "Mean:  6.01611284933\n"
     ]
    }
   ],
   "source": [
    "print('Strandard Deviation: ',board_games[\"average_rating\"].std())\n",
    "print('Mean: ', board_games[\"average_rating\"].mean())"
   ]
  },
  {
   "cell_type": "markdown",
   "metadata": {},
   "source": [
    "# Error metric\n",
    "\n",
    "In this data set, using mean squared error as an error metric makes sense. This is because the data is continuous, and follows a somewhat normal distribution. We'll be able to compare our error to the standard deviation to see how good the model is at predictions."
   ]
  },
  {
   "cell_type": "code",
   "execution_count": 57,
   "metadata": {
    "collapsed": false
   },
   "outputs": [
    {
     "name": "stdout",
     "output_type": "stream",
     "text": [
      "[1 1 1 ..., 0 0 0]\n"
     ]
    }
   ],
   "source": [
    "from sklearn.cluster import KMeans\n",
    "\n",
    "# Initializing the KMeans class with cluster size as 5 \n",
    "kmeans_model = KMeans(n_clusters = 5, random_state = 1)\n",
    "\n",
    "#Extracting the numeric columns \n",
    "numeric_columns = board_games.iloc[:, 3:]\n",
    "\n",
    "model = kmeans_model.fit(numeric_columns)\n",
    "\n",
    "labels = model.labels_\n",
    "print(labels)"
   ]
  },
  {
   "cell_type": "code",
   "execution_count": 58,
   "metadata": {
    "collapsed": false
   },
   "outputs": [
    {
     "data": {
      "image/png": "[encoded data removed]",
      "text/plain": [
       "<matplotlib.figure.Figure at 0x7f8f5c8d94a8>"
      ]
     },
     "metadata": {},
     "output_type": "display_data"
    }
   ],
   "source": [
    "import numpy as np\n",
    "\n",
    "game_mean = numeric_columns.apply(np.mean, axis = 1)\n",
    "game_std = numeric_columns.apply(np.std, axis = 1)\n",
    "\n",
    "plt.scatter(game_mean, game_std, c=labels)\n",
    "plt.show()"
   ]
  },
  {
   "cell_type": "markdown",
   "metadata": {},
   "source": [
    "# Game clusters\n",
    "\n",
    "It looks like most of the games are similar, but as the game attributes tend to increase in value (such as number of users who rated), there are fewer high quality games. So most games don't get played much, but a few get a lot of players."
   ]
  },
  {
   "cell_type": "code",
   "execution_count": 59,
   "metadata": {
    "collapsed": false
   },
   "outputs": [
    {
     "name": "stdout",
     "output_type": "stream",
     "text": [
      "                      yearpublished  minplayers  maxplayers  playingtime  \\\n",
      "yearpublished              1.000000    0.004308    0.004977     0.006235   \n",
      "minplayers                 0.004308    1.000000    0.037155     0.024320   \n",
      "maxplayers                 0.004977    0.037155    1.000000    -0.001020   \n",
      "playingtime                0.006235    0.024320   -0.001020     1.000000   \n",
      "minplaytime                0.005245    0.026569   -0.000950     0.967909   \n",
      "maxplaytime                0.006235    0.024320   -0.001020     1.000000   \n",
      "minage                     0.125281    0.110886    0.004508     0.053471   \n",
      "users_rated                0.037454    0.020364   -0.000858     0.010908   \n",
      "average_rating             0.108461   -0.032701   -0.008335     0.048994   \n",
      "bayes_average_rating       0.140998    0.034915   -0.003437     0.045341   \n",
      "total_owners               0.047740    0.014594   -0.000977     0.014532   \n",
      "total_traders              0.064403    0.024708   -0.002381     0.019264   \n",
      "total_wanters              0.062289   -0.008654   -0.003585     0.024289   \n",
      "total_wishers              0.052534   -0.003786   -0.002499     0.020296   \n",
      "total_comments             0.043818    0.023033   -0.001502     0.016890   \n",
      "total_weights              0.036226    0.019061   -0.001457     0.017789   \n",
      "average_weight             0.125318   -0.021892   -0.013448     0.090895   \n",
      "\n",
      "                      minplaytime  maxplaytime    minage  users_rated  \\\n",
      "yearpublished            0.005245     0.006235  0.125281     0.037454   \n",
      "minplayers               0.026569     0.024320  0.110886     0.020364   \n",
      "maxplayers              -0.000950    -0.001020  0.004508    -0.000858   \n",
      "playingtime              0.967909     1.000000  0.053471     0.010908   \n",
      "minplaytime              1.000000     0.967909  0.052454     0.005502   \n",
      "maxplaytime              0.967909     1.000000  0.053471     0.010908   \n",
      "minage                   0.052454     0.053471  1.000000     0.097885   \n",
      "users_rated              0.005502     0.010908  0.097885     1.000000   \n",
      "average_rating           0.043985     0.048994  0.210049     0.112564   \n",
      "bayes_average_rating     0.041845     0.045341  0.266937     0.317992   \n",
      "total_owners             0.008975     0.014532  0.118564     0.977664   \n",
      "total_traders            0.014484     0.019264  0.152313     0.807873   \n",
      "total_wanters            0.017491     0.024289  0.154097     0.702433   \n",
      "total_wishers            0.012737     0.020296  0.137476     0.805116   \n",
      "total_comments           0.010046     0.016890  0.113395     0.978708   \n",
      "total_weights            0.010172     0.017789  0.097084     0.975723   \n",
      "average_weight           0.084405     0.090895  0.259782     0.150597   \n",
      "\n",
      "                      average_rating  bayes_average_rating  total_owners  \\\n",
      "yearpublished               0.108461              0.140998      0.047740   \n",
      "minplayers                 -0.032701              0.034915      0.014594   \n",
      "maxplayers                 -0.008335             -0.003437     -0.000977   \n",
      "playingtime                 0.048994              0.045341      0.014532   \n",
      "minplaytime                 0.043985              0.041845      0.008975   \n",
      "maxplaytime                 0.048994              0.045341      0.014532   \n",
      "minage                      0.210049              0.266937      0.118564   \n",
      "users_rated                 0.112564              0.317992      0.977664   \n",
      "average_rating              1.000000              0.231563      0.137478   \n",
      "bayes_average_rating        0.231563              1.000000      0.371017   \n",
      "total_owners                0.137478              0.371017      1.000000   \n",
      "total_traders               0.119452              0.455021      0.829875   \n",
      "total_wanters               0.196566              0.426708      0.688380   \n",
      "total_wishers               0.171375              0.377213      0.788820   \n",
      "total_comments              0.123714              0.371031      0.954026   \n",
      "total_weights               0.109691              0.313302      0.938422   \n",
      "average_weight              0.351081              0.482356      0.183341   \n",
      "\n",
      "                      total_traders  total_wanters  total_wishers  \\\n",
      "yearpublished              0.064403       0.062289       0.052534   \n",
      "minplayers                 0.024708      -0.008654      -0.003786   \n",
      "maxplayers                -0.002381      -0.003585      -0.002499   \n",
      "playingtime                0.019264       0.024289       0.020296   \n",
      "minplaytime                0.014484       0.017491       0.012737   \n",
      "maxplaytime                0.019264       0.024289       0.020296   \n",
      "minage                     0.152313       0.154097       0.137476   \n",
      "users_rated                0.807873       0.702433       0.805116   \n",
      "average_rating             0.119452       0.196566       0.171375   \n",
      "bayes_average_rating       0.455021       0.426708       0.377213   \n",
      "total_owners               0.829875       0.688380       0.788820   \n",
      "total_traders              1.000000       0.555836       0.631443   \n",
      "total_wanters              0.555836       1.000000       0.961002   \n",
      "total_wishers              0.631443       0.961002       1.000000   \n",
      "total_comments             0.856526       0.709645       0.788538   \n",
      "total_weights              0.801559       0.667608       0.764677   \n",
      "average_weight             0.227302       0.254229       0.219025   \n",
      "\n",
      "                      total_comments  total_weights  average_weight  \n",
      "yearpublished               0.043818       0.036226        0.125318  \n",
      "minplayers                  0.023033       0.019061       -0.021892  \n",
      "maxplayers                 -0.001502      -0.001457       -0.013448  \n",
      "playingtime                 0.016890       0.017789        0.090895  \n",
      "minplaytime                 0.010046       0.010172        0.084405  \n",
      "maxplaytime                 0.016890       0.017789        0.090895  \n",
      "minage                      0.113395       0.097084        0.259782  \n",
      "users_rated                 0.978708       0.975723        0.150597  \n",
      "average_rating              0.123714       0.109691        0.351081  \n",
      "bayes_average_rating        0.371031       0.313302        0.482356  \n",
      "total_owners                0.954026       0.938422        0.183341  \n",
      "total_traders               0.856526       0.801559        0.227302  \n",
      "total_wanters               0.709645       0.667608        0.254229  \n",
      "total_wishers               0.788538       0.764677        0.219025  \n",
      "total_comments              1.000000       0.978213        0.180939  \n",
      "total_weights               0.978213       1.000000        0.161004  \n",
      "average_weight              0.180939       0.161004        1.000000  \n"
     ]
    }
   ],
   "source": [
    "correlations = numeric_columns.corr()\n",
    "\n",
    "print (correlations)\n"
   ]
  },
  {
   "cell_type": "markdown",
   "metadata": {},
   "source": [
    "# Correlations\n",
    "\n",
    "The yearpublished column is surprisingly highly correlated with average_rating, showing that more recent games tend to be rated more highly. Games for older players (minage is high) tend to be more highly rated. The more \"weighty\" a game is (average_weight is high), the more highly it tends to be rated."
   ]
  },
  {
   "cell_type": "code",
   "execution_count": 60,
   "metadata": {
    "collapsed": false
   },
   "outputs": [
    {
     "data": {
      "text/plain": [
       "LinearRegression(copy_X=True, fit_intercept=True, n_jobs=1, normalize=False)"
      ]
     },
     "execution_count": 60,
     "metadata": {},
     "output_type": "execute_result"
    }
   ],
   "source": [
    "from sklearn.linear_model import LinearRegression\n",
    "\n",
    "reg = LinearRegression()\n",
    "reg.fit(board_games[numeric_columns.columns], board_games['average_rating'])"
   ]
  },
  {
   "cell_type": "code",
   "execution_count": 61,
   "metadata": {
    "collapsed": false
   },
   "outputs": [
    {
     "name": "stdout",
     "output_type": "stream",
     "text": [
      "[ 8.33774  8.28798  8.28994 ...,  8.       7.       7.     ]\n"
     ]
    }
   ],
   "source": [
    "predictions = reg.predict(board_games[numeric_columns.columns])\n",
    "print(predictions)"
   ]
  },
  {
   "cell_type": "code",
   "execution_count": 62,
   "metadata": {
    "collapsed": false
   },
   "outputs": [
    {
     "data": {
      "text/html": [
       "<div>\n",
       "<table border=\"1\" class=\"dataframe\">\n",
       "  <thead>\n",
       "    <tr style=\"text-align: right;\">\n",
       "      <th></th>\n",
       "      <th>id</th>\n",
       "      <th>type</th>\n",
       "      <th>name</th>\n",
       "      <th>yearpublished</th>\n",
       "      <th>minplayers</th>\n",
       "      <th>maxplayers</th>\n",
       "      <th>playingtime</th>\n",
       "      <th>minplaytime</th>\n",
       "      <th>maxplaytime</th>\n",
       "      <th>minage</th>\n",
       "      <th>...</th>\n",
       "      <th>average_rating</th>\n",
       "      <th>bayes_average_rating</th>\n",
       "      <th>total_owners</th>\n",
       "      <th>total_traders</th>\n",
       "      <th>total_wanters</th>\n",
       "      <th>total_wishers</th>\n",
       "      <th>total_comments</th>\n",
       "      <th>total_weights</th>\n",
       "      <th>average_weight</th>\n",
       "      <th>predicted_ratings</th>\n",
       "    </tr>\n",
       "  </thead>\n",
       "  <tbody>\n",
       "    <tr>\n",
       "      <th>0</th>\n",
       "      <td>12333</td>\n",
       "      <td>boardgame</td>\n",
       "      <td>Twilight Struggle</td>\n",
       "      <td>2005.0</td>\n",
       "      <td>2.0</td>\n",
       "      <td>2.0</td>\n",
       "      <td>180.0</td>\n",
       "      <td>180.0</td>\n",
       "      <td>180.0</td>\n",
       "      <td>13.0</td>\n",
       "      <td>...</td>\n",
       "      <td>8.33774</td>\n",
       "      <td>8.22186</td>\n",
       "      <td>26647</td>\n",
       "      <td>372</td>\n",
       "      <td>1219</td>\n",
       "      <td>5865</td>\n",
       "      <td>5347</td>\n",
       "      <td>2562</td>\n",
       "      <td>3.4785</td>\n",
       "      <td>8.33774</td>\n",
       "    </tr>\n",
       "    <tr>\n",
       "      <th>1</th>\n",
       "      <td>120677</td>\n",
       "      <td>boardgame</td>\n",
       "      <td>Terra Mystica</td>\n",
       "      <td>2012.0</td>\n",
       "      <td>2.0</td>\n",
       "      <td>5.0</td>\n",
       "      <td>150.0</td>\n",
       "      <td>60.0</td>\n",
       "      <td>150.0</td>\n",
       "      <td>12.0</td>\n",
       "      <td>...</td>\n",
       "      <td>8.28798</td>\n",
       "      <td>8.14232</td>\n",
       "      <td>16519</td>\n",
       "      <td>132</td>\n",
       "      <td>1586</td>\n",
       "      <td>6277</td>\n",
       "      <td>2526</td>\n",
       "      <td>1423</td>\n",
       "      <td>3.8939</td>\n",
       "      <td>8.28798</td>\n",
       "    </tr>\n",
       "    <tr>\n",
       "      <th>2</th>\n",
       "      <td>102794</td>\n",
       "      <td>boardgame</td>\n",
       "      <td>Caverna: The Cave Farmers</td>\n",
       "      <td>2013.0</td>\n",
       "      <td>1.0</td>\n",
       "      <td>7.0</td>\n",
       "      <td>210.0</td>\n",
       "      <td>30.0</td>\n",
       "      <td>210.0</td>\n",
       "      <td>12.0</td>\n",
       "      <td>...</td>\n",
       "      <td>8.28994</td>\n",
       "      <td>8.06886</td>\n",
       "      <td>12230</td>\n",
       "      <td>99</td>\n",
       "      <td>1476</td>\n",
       "      <td>5600</td>\n",
       "      <td>1700</td>\n",
       "      <td>777</td>\n",
       "      <td>3.7761</td>\n",
       "      <td>8.28994</td>\n",
       "    </tr>\n",
       "    <tr>\n",
       "      <th>3</th>\n",
       "      <td>25613</td>\n",
       "      <td>boardgame</td>\n",
       "      <td>Through the Ages: A Story of Civilization</td>\n",
       "      <td>2006.0</td>\n",
       "      <td>2.0</td>\n",
       "      <td>4.0</td>\n",
       "      <td>240.0</td>\n",
       "      <td>240.0</td>\n",
       "      <td>240.0</td>\n",
       "      <td>12.0</td>\n",
       "      <td>...</td>\n",
       "      <td>8.20407</td>\n",
       "      <td>8.05804</td>\n",
       "      <td>14343</td>\n",
       "      <td>362</td>\n",
       "      <td>1084</td>\n",
       "      <td>5075</td>\n",
       "      <td>3378</td>\n",
       "      <td>1642</td>\n",
       "      <td>4.1590</td>\n",
       "      <td>8.20407</td>\n",
       "    </tr>\n",
       "    <tr>\n",
       "      <th>4</th>\n",
       "      <td>3076</td>\n",
       "      <td>boardgame</td>\n",
       "      <td>Puerto Rico</td>\n",
       "      <td>2002.0</td>\n",
       "      <td>2.0</td>\n",
       "      <td>5.0</td>\n",
       "      <td>150.0</td>\n",
       "      <td>90.0</td>\n",
       "      <td>150.0</td>\n",
       "      <td>12.0</td>\n",
       "      <td>...</td>\n",
       "      <td>8.14261</td>\n",
       "      <td>8.04524</td>\n",
       "      <td>44362</td>\n",
       "      <td>795</td>\n",
       "      <td>861</td>\n",
       "      <td>5414</td>\n",
       "      <td>9173</td>\n",
       "      <td>5213</td>\n",
       "      <td>3.2943</td>\n",
       "      <td>8.14261</td>\n",
       "    </tr>\n",
       "  </tbody>\n",
       "</table>\n",
       "<p>5 rows × 21 columns</p>\n",
       "</div>"
      ],
      "text/plain": [
       "       id       type                                       name  \\\n",
       "0   12333  boardgame                          Twilight Struggle   \n",
       "1  120677  boardgame                              Terra Mystica   \n",
       "2  102794  boardgame                  Caverna: The Cave Farmers   \n",
       "3   25613  boardgame  Through the Ages: A Story of Civilization   \n",
       "4    3076  boardgame                                Puerto Rico   \n",
       "\n",
       "   yearpublished  minplayers  maxplayers  playingtime  minplaytime  \\\n",
       "0         2005.0         2.0         2.0        180.0        180.0   \n",
       "1         2012.0         2.0         5.0        150.0         60.0   \n",
       "2         2013.0         1.0         7.0        210.0         30.0   \n",
       "3         2006.0         2.0         4.0        240.0        240.0   \n",
       "4         2002.0         2.0         5.0        150.0         90.0   \n",
       "\n",
       "   maxplaytime  minage        ...          average_rating  \\\n",
       "0        180.0    13.0        ...                 8.33774   \n",
       "1        150.0    12.0        ...                 8.28798   \n",
       "2        210.0    12.0        ...                 8.28994   \n",
       "3        240.0    12.0        ...                 8.20407   \n",
       "4        150.0    12.0        ...                 8.14261   \n",
       "\n",
       "   bayes_average_rating  total_owners  total_traders  total_wanters  \\\n",
       "0               8.22186         26647            372           1219   \n",
       "1               8.14232         16519            132           1586   \n",
       "2               8.06886         12230             99           1476   \n",
       "3               8.05804         14343            362           1084   \n",
       "4               8.04524         44362            795            861   \n",
       "\n",
       "   total_wishers  total_comments  total_weights  average_weight  \\\n",
       "0           5865            5347           2562          3.4785   \n",
       "1           6277            2526           1423          3.8939   \n",
       "2           5600            1700            777          3.7761   \n",
       "3           5075            3378           1642          4.1590   \n",
       "4           5414            9173           5213          3.2943   \n",
       "\n",
       "   predicted_ratings  \n",
       "0            8.33774  \n",
       "1            8.28798  \n",
       "2            8.28994  \n",
       "3            8.20407  \n",
       "4            8.14261  \n",
       "\n",
       "[5 rows x 21 columns]"
      ]
     },
     "execution_count": 62,
     "metadata": {},
     "output_type": "execute_result"
    }
   ],
   "source": [
    "board_games['predicted_ratings'] = predictions\n",
    "board_games.head()"
   ]
  },
  {
   "cell_type": "code",
   "execution_count": 64,
   "metadata": {
    "collapsed": false
   },
   "outputs": [
    {
     "name": "stdout",
     "output_type": "stream",
     "text": [
      "Mean Square Error:  2.80821466284e-28\n",
      "Root Mean Square Error:  1.67577285538e-14\n"
     ]
    }
   ],
   "source": [
    "# Claculating Root MeanSquare Error\n",
    "mean_square_error = np.mean((board_games['predicted_ratings'] - board_games['average_rating']) ** 2)\n",
    "rms = mean_square_error ** 0.5\n",
    "print('Mean Square Error: ', mean_square_error)\n",
    "print('Root Mean Square Error: ', rms)"
   ]
  },
  {
   "cell_type": "code",
   "execution_count": null,
   "metadata": {
    "collapsed": true
   },
   "outputs": [],
   "source": []
  }
 ],
 "metadata": {
  "kernelspec": {
   "display_name": "Python 3",
   "language": "python",
   "name": "python3"
  },
  "language_info": {
   "codemirror_mode": {
    "name": "ipython",
    "version": 3
   },
   "file_extension": ".py",
   "mimetype": "text/x-python",
   "name": "python",
   "nbconvert_exporter": "python",
   "pygments_lexer": "ipython3",
   "version": "3.4.3"
  }
 },
 "nbformat": 4,
 "nbformat_minor": 0
}
